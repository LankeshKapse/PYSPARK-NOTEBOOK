{
 "cells": [
  {
   "cell_type": "markdown",
   "id": "040c3ef5-d4d6-4c6f-8f6d-5996b64d3b45",
   "metadata": {},
   "source": [
    "#### Control statement"
   ]
  },
  {
   "cell_type": "code",
   "execution_count": null,
   "id": "5976e08b-0602-4abe-8deb-f3f0c862cc62",
   "metadata": {},
   "outputs": [],
   "source": [
    "x=10\n",
    "if x>5:\n",
    "    print(\"x is greater than 5\")"
   ]
  },
  {
   "cell_type": "code",
   "execution_count": null,
   "id": "609b20f7-5902-493b-af40-06ffeb9e2822",
   "metadata": {},
   "outputs": [],
   "source": [
    "if x < 5:\n",
    "    pass\n",
    "else:\n",
    "    if x >= 10:\n",
    "        print(\"else statement\")"
   ]
  },
  {
   "cell_type": "code",
   "execution_count": null,
   "id": "87272c69-e7a4-4543-a8b7-255391f765cc",
   "metadata": {},
   "outputs": [],
   "source": [
    "if x > 15:\n",
    "    print(\"x is > 15\")\n",
    "elif x < 8:\n",
    "    print(\"x is < 8\")\n",
    "else:\n",
    "    print(x)"
   ]
  },
  {
   "cell_type": "code",
   "execution_count": null,
   "id": "3be1b180-04e0-42e3-ac63-d71cc74c7c9d",
   "metadata": {},
   "outputs": [],
   "source": [
    "# if condition : statement\n",
    "if x >9 : print(\"x > 9\")"
   ]
  },
  {
   "cell_type": "markdown",
   "id": "340cdb4c-6aec-4fc9-ad88-e657f11687b2",
   "metadata": {},
   "source": [
    "#### String formation"
   ]
  },
  {
   "cell_type": "code",
   "execution_count": null,
   "id": "c6e8ba70-4ded-4681-9fc1-d6ae2ce729b5",
   "metadata": {},
   "outputs": [],
   "source": [
    "print(\"Misha %s and %s arround\"%(\"walked\", \"looked\"))"
   ]
  },
  {
   "cell_type": "code",
   "execution_count": null,
   "id": "307a5e8f-96bf-4f74-b249-707a91d93285",
   "metadata": {},
   "outputs": [],
   "source": [
    "import math\n",
    "print(\"the value of pi is %5.10f\" %math.pi)"
   ]
  },
  {
   "cell_type": "code",
   "execution_count": null,
   "id": "c8eb0f0a-64d7-4ce6-9f87-c96b5f6176dc",
   "metadata": {},
   "outputs": [],
   "source": [
    "print(\"My name is {} and I am {} years old\".format(\"lankesh\",32)) "
   ]
  },
  {
   "cell_type": "code",
   "execution_count": null,
   "id": "80010907-4305-4d33-9272-1e84e00c02e6",
   "metadata": {},
   "outputs": [],
   "source": [
    "print(\"{2}, {1}, {0}\".format(\"red\",\"green\",\"blue\"))"
   ]
  },
  {
   "cell_type": "code",
   "execution_count": null,
   "id": "536cc48d-e989-41d3-bb4b-9cc49317386d",
   "metadata": {},
   "outputs": [],
   "source": [
    "print(\" {a}, {b}, {c}\".format(a=\"A\",b=\"B\",c=\"C\"))"
   ]
  },
  {
   "cell_type": "code",
   "execution_count": null,
   "id": "7e9a710e-9065-4f4d-a2e4-c201532af93b",
   "metadata": {},
   "outputs": [],
   "source": [
    "print(\"Reusing object {p} -> {p} -> {p}\".format(p=\"value\"))"
   ]
  },
  {
   "cell_type": "code",
   "execution_count": null,
   "id": "6f53fbe0-741e-4fac-9217-a65856343991",
   "metadata": {},
   "outputs": [],
   "source": [
    "import math\n",
    "print(\"format with prcision {0:1.5f}\".format(math.pi))"
   ]
  },
  {
   "cell_type": "markdown",
   "id": "3e8e5a9e-8f6b-4e27-b858-c99acbd5c8cd",
   "metadata": {},
   "source": [
    "#### String functions"
   ]
  },
  {
   "cell_type": "code",
   "execution_count": null,
   "id": "be4fe226-fafa-4675-9df4-79a790a1c4d7",
   "metadata": {},
   "outputs": [],
   "source": [
    "a = \"This is a normal String\"\n",
    "print(a)"
   ]
  },
  {
   "cell_type": "code",
   "execution_count": null,
   "id": "fe3cc585-99e1-4629-8987-a694933c7758",
   "metadata": {},
   "outputs": [],
   "source": [
    "# slicing a string bacialyy sring are array\n",
    "print(a[2:5])"
   ]
  },
  {
   "cell_type": "code",
   "execution_count": null,
   "id": "f01b1aa9-1a2c-48a9-892f-34698938a8e9",
   "metadata": {},
   "outputs": [],
   "source": [
    "# looping through string\n",
    "for x in a:\n",
    "    print(x)"
   ]
  },
  {
   "cell_type": "code",
   "execution_count": null,
   "id": "0a3de1cb-3139-4bad-9499-c889f8a5d98f",
   "metadata": {},
   "outputs": [],
   "source": [
    "# string lenght\n",
    "print(len(a))"
   ]
  },
  {
   "cell_type": "code",
   "execution_count": null,
   "id": "8d56d6e6-255f-46cb-a1fb-d1bcf3a5b3da",
   "metadata": {},
   "outputs": [],
   "source": [
    "for x in range(len(a)):\n",
    "    print(a[x])"
   ]
  },
  {
   "cell_type": "code",
   "execution_count": null,
   "id": "7c7f860f-8247-4adf-9064-8d6ac4f0d3b7",
   "metadata": {},
   "outputs": [],
   "source": [
    "# check substring present in string\n",
    "b = \"normal\"\n",
    "print(b in a)\n",
    "print(b not in a)"
   ]
  },
  {
   "cell_type": "code",
   "execution_count": null,
   "id": "5a9aceb2-4d75-43c9-ba93-1fe44580e45d",
   "metadata": {},
   "outputs": [],
   "source": [
    "# Creating multiline String\n",
    "ms = '''\n",
    "    this is\n",
    "    multiline \n",
    "    String\n",
    "'''\n",
    "print(ms)"
   ]
  },
  {
   "cell_type": "code",
   "execution_count": null,
   "id": "9e136651-cfc8-4f65-9ab8-1575d2f096f6",
   "metadata": {},
   "outputs": [],
   "source": [
    "# reverse string\n",
    "s = \"Hello Word!\"\n",
    "print(s[len(s)-1:-1:-1])\n",
    "print(s[::-1])\n",
    "\n",
    "## Another way\n",
    "temp=\"\"\n",
    "for i in s:\n",
    "    temp = i+temp\n",
    "print(temp)\n",
    "\n",
    "# using recursive function\n",
    "def reveres(d:str):\n",
    "    if len(d) ==0:\n",
    "        return d\n",
    "    else:\n",
    "        return reveres(d[1:])+d[0]\n",
    "print(reveres(s))\n",
    "\n",
    "# using statck\n",
    "def reverse_using_stack( inputstr ):\n",
    "    stack = []\n",
    "    for i in inputstr:\n",
    "        stack.append(i)\n",
    "    string=\"\"\n",
    "    while(len(stack) != 0):\n",
    "        string +=stack.pop()\n",
    "    print(string)\n",
    "    \n",
    "reverse_using_stack(s)\n",
    "\n",
    "# using method\n",
    "print(\"\".join(reversed(s)))\n",
    "\n",
    "# using lambda function\n",
    "from functools import reduce \n",
    "rev_str = reduce(lambda x, y : y+x , s)\n",
    "print(rev_str)"
   ]
  },
  {
   "cell_type": "code",
   "execution_count": null,
   "id": "59f5d1fd-175b-41c1-8865-5b3df15e9c31",
   "metadata": {},
   "outputs": [],
   "source": [
    "# lowe , uper , titile\n",
    "s = \"this is test string\"\n",
    "print(s.lower())\n",
    "print(s.upper())\n",
    "print(s.title())"
   ]
  },
  {
   "cell_type": "code",
   "execution_count": null,
   "id": "09393b80-2de4-4fb8-818c-22110f597f45",
   "metadata": {},
   "outputs": [],
   "source": [
    "#find in string\n",
    "s = \"this is test string\"\n",
    "f = \"test\"\n",
    "print(s.find(f))\n",
    "#aleternate version\n",
    "print(f in s)"
   ]
  },
  {
   "cell_type": "code",
   "execution_count": null,
   "id": "408fad0e-01c2-4686-92b0-62cd10d65afa",
   "metadata": {},
   "outputs": [],
   "source": [
    "# substring\n",
    "s = \"this is test string\"\n",
    "f = \"test\"\n",
    "index = s.find(f)\n",
    "print(s[index:])\n",
    "# if not found it will return -1"
   ]
  },
  {
   "cell_type": "code",
   "execution_count": null,
   "id": "739e22b5-4369-458e-b1d3-d51e3fd6ec7b",
   "metadata": {},
   "outputs": [],
   "source": [
    "#replace\n",
    "s = \"this is test string\"\n",
    "f = \"normal\"\n",
    "print(s.replace(\"test\",f))"
   ]
  },
  {
   "cell_type": "code",
   "execution_count": null,
   "id": "d0fa22ab-c0f2-4610-bdec-d7c66c1d32cf",
   "metadata": {},
   "outputs": [],
   "source": [
    "# split string\n",
    "s = \"this is test string\"\n",
    "print(s.split(\" \"))"
   ]
  },
  {
   "cell_type": "code",
   "execution_count": null,
   "id": "a07e1b46-7d30-4966-b42c-b495b7231a1d",
   "metadata": {},
   "outputs": [],
   "source": [
    "#Join string wil delemeter with iterable\n",
    "s = \"this is test string\"\n",
    "print(\",\".join(s.split(\" \")))"
   ]
  },
  {
   "cell_type": "code",
   "execution_count": null,
   "id": "5b1328db-9996-42d8-9b7c-692b44503566",
   "metadata": {},
   "outputs": [],
   "source": [
    "# return higest index of find\n",
    "s=\"this is test string test test\"\n",
    "print(s.rfind(\"test\"))\n",
    "print(s.find(\"test\"))"
   ]
  },
  {
   "cell_type": "code",
   "execution_count": null,
   "id": "81aefafc-4367-4004-a501-dc7a6b5806c6",
   "metadata": {},
   "outputs": [],
   "source": [
    "# calculate the lenght of string\n",
    "s = \"this is test string\"\n",
    "print(len(s))"
   ]
  },
  {
   "cell_type": "code",
   "execution_count": null,
   "id": "3eb2292a-f30a-4ecd-9ef3-3dd7b864ee6b",
   "metadata": {},
   "outputs": [],
   "source": [
    "#return index of string\n",
    "s = \"this is test string\"\n",
    "f = \"test\"\n",
    "index = s.index(f)\n",
    "print(index)"
   ]
  },
  {
   "cell_type": "code",
   "execution_count": null,
   "id": "f700c22c-7bb2-4b1f-8e26-205571cfd52a",
   "metadata": {},
   "outputs": [],
   "source": [
    "#Right aligns the string according to the width specified\n",
    "s = \"this is test string\"\n",
    "print(s.rjust(5))"
   ]
  },
  {
   "cell_type": "code",
   "execution_count": null,
   "id": "b19f2394-769d-4cf4-bd52-6fecb8737f75",
   "metadata": {},
   "outputs": [],
   "source": [
    "#Split the given string into three parts\n",
    "s = \"this is test string\"\n",
    "print(s.rpartition(\"test\"))"
   ]
  },
  {
   "cell_type": "code",
   "execution_count": null,
   "id": "ce39dc40-af30-4402-ae85-280b512de5ae",
   "metadata": {},
   "outputs": [],
   "source": [
    "# check if string is empty\n",
    "s=\"\"\n",
    "if(s is not None):\n",
    "    print(\"if length is 0 -> {}\".format(len(s)))\n",
    "    print(\"not string return True if string is empty -> {}\".format(not s))\n",
    "    print(\"bool(str) return false if str is empty -> {}\".format(bool(s)))\n",
    "else:\n",
    "    print(\"s is none\")"
   ]
  },
  {
   "cell_type": "code",
   "execution_count": null,
   "id": "81c80fc8-58f9-4463-99d3-4e89076ec0b0",
   "metadata": {},
   "outputs": [],
   "source": [
    "s = \"this is test string\"\n",
    "print(s.split(\"is\"))"
   ]
  },
  {
   "cell_type": "code",
   "execution_count": null,
   "id": "09b6d93e-081d-4d26-a5c8-7a0ef91406ef",
   "metadata": {},
   "outputs": [],
   "source": [
    "#By definition, isdecimal() ⊆ isdigit() ⊆ isnumeric(). That is, if a string is decimal, then it'll also be digit and numeric.\n",
    "\n",
    "s=\"123\"\n",
    "print(\"123 is didgit -> \",s.isdigit())\n",
    "print(\"123 is numeric -> \",s.isnumeric())\n",
    "print(\"1 2 3 is decimal -> \",\"1 2 3\".isdecimal())\n",
    "print(\"1 2 3 is numeric -> \",\"1 2 3\".isnumeric())"
   ]
  },
  {
   "cell_type": "markdown",
   "id": "629316f2-efcf-4c2e-976e-a57e3a282ebc",
   "metadata": {},
   "source": [
    "#### LOOPING"
   ]
  },
  {
   "cell_type": "code",
   "execution_count": null,
   "id": "ccd7f346-80ce-461c-8b82-e5d505d0d8dd",
   "metadata": {},
   "outputs": [],
   "source": [
    "# for loop\n",
    "# for var in iterable:\n",
    "#     statement\n",
    "\n",
    "for i in range(1,10):\n",
    "    print(i)\n",
    "print(\"--------\")\n",
    "for i in range(1,10,2):\n",
    "    print(i)"
   ]
  },
  {
   "cell_type": "code",
   "execution_count": null,
   "id": "8db75d35-b38c-4ead-9787-3c9201419cd7",
   "metadata": {},
   "outputs": [],
   "source": [
    "s = \"this is a string\"\n",
    "for var in s:\n",
    "    print(var)"
   ]
  },
  {
   "cell_type": "code",
   "execution_count": null,
   "id": "53a885a4-2844-423b-95d4-2d2a3f8f61bd",
   "metadata": {},
   "outputs": [],
   "source": [
    "# With enumarate\n",
    "l1 = [\"eat\",\"sleep\",\"repeat\"]\n",
    "for index,item in enumerate(l1):\n",
    "    print(item,\" -> \",index)"
   ]
  },
  {
   "cell_type": "code",
   "execution_count": null,
   "id": "4d636f6a-4e1f-493e-90a2-ace890aa777d",
   "metadata": {},
   "outputs": [],
   "source": [
    "# one liner for\n",
    "even =  [ x for x in range(1,10) if x %2 == 0 ]\n",
    "print(even)"
   ]
  },
  {
   "cell_type": "code",
   "execution_count": null,
   "id": "cecd2f21-fea2-4997-b957-1e0da7c675ab",
   "metadata": {},
   "outputs": [],
   "source": [
    "# dict with for\n",
    "d = dict()\n",
    "d['a']=1\n",
    "d['b']=2\n",
    "print(d)\n",
    "#when iterarate over dict for will itrate over keys\n",
    "for i in d:\n",
    "    print(i, \" -> \", d[i])"
   ]
  },
  {
   "cell_type": "code",
   "execution_count": null,
   "id": "b1a5a196-2948-4bf2-9dc6-207f5f1500ac",
   "metadata": {},
   "outputs": [],
   "source": [
    "# for with tupel\n",
    "t = ((1,2),(3,4),(5,6))\n",
    "print(t)\n",
    "for t1,t2 in t:\n",
    "    print(t1,\" -> \",t2)"
   ]
  },
  {
   "cell_type": "code",
   "execution_count": null,
   "id": "f665afd7-14a2-44e3-be66-0bfd16123e93",
   "metadata": {},
   "outputs": [],
   "source": [
    "# for loop with zip function\n",
    "fruits = [\"apple\", \"banana\", \"cherry\"]\n",
    "colors = [\"red\", \"yellow\", \"green\"]\n",
    "for fruit, color in zip(fruits, colors):\n",
    "    print(fruit, \"is\", color)"
   ]
  },
  {
   "cell_type": "code",
   "execution_count": null,
   "id": "20207b8a-a3f4-4b27-91fa-814f4eb8a056",
   "metadata": {},
   "outputs": [],
   "source": [
    "# control statement with for\n",
    "for i in range(1,11):\n",
    "    if i % 2 == 0:\n",
    "        continue\n",
    "    else:\n",
    "        print(i)"
   ]
  },
  {
   "cell_type": "code",
   "execution_count": null,
   "id": "4c7e1567-1e7d-498a-a0d9-020a733a7496",
   "metadata": {},
   "outputs": [],
   "source": [
    "for i in range(1,11):\n",
    "    if i % 2 == 0:\n",
    "        break\n",
    "    else:\n",
    "        print(i)"
   ]
  },
  {
   "cell_type": "code",
   "execution_count": null,
   "id": "1b861a5e-e416-4d3a-804a-bda48d7e9005",
   "metadata": {},
   "outputs": [],
   "source": [
    "# for with else\n",
    "for i in range(1,10):\n",
    "    print(i)\n",
    "    # break\n",
    "else:\n",
    "    print(\"else of for if no brak then else will execute\")"
   ]
  },
  {
   "cell_type": "markdown",
   "id": "e3349550-f938-40e3-94a2-e68a7b368de1",
   "metadata": {},
   "source": [
    "### collection"
   ]
  },
  {
   "cell_type": "markdown",
   "id": "c1a08243-9c05-4fe6-80f7-dcb9a0f421b5",
   "metadata": {},
   "source": [
    "#### LIST"
   ]
  },
  {
   "cell_type": "code",
   "execution_count": null,
   "id": "f6759523-8055-4f77-b4ee-71d8e11e80b7",
   "metadata": {},
   "outputs": [],
   "source": [
    "# define empty list\n",
    "l = []\n",
    "print(l)"
   ]
  },
  {
   "cell_type": "code",
   "execution_count": null,
   "id": "e5277f45-7864-4ee2-95b9-75de07943083",
   "metadata": {},
   "outputs": [],
   "source": [
    "l  = [1,2,3,4,5,6,7,8,9]\n",
    "print(l)"
   ]
  },
  {
   "cell_type": "code",
   "execution_count": null,
   "id": "e882367b-b034-47bd-adfb-038fa89f4e9b",
   "metadata": {},
   "outputs": [],
   "source": [
    "l = [1,'one', 2.4,\"two\", [3,4,5]]\n",
    "print(l)"
   ]
  },
  {
   "cell_type": "code",
   "execution_count": null,
   "id": "d3ab0c83-3b9a-4dc6-8ba3-f4fcb8fd570d",
   "metadata": {},
   "outputs": [],
   "source": [
    "# apaend element to list/array\n",
    "l = list()\n",
    "for i in range(1,11):\n",
    "    l.append(i)\n",
    "print(l)\n",
    "l.clear()\n",
    "print(l)"
   ]
  },
  {
   "cell_type": "code",
   "execution_count": null,
   "id": "ff35ed1f-058e-4d19-8c65-74af240f0270",
   "metadata": {},
   "outputs": [],
   "source": [
    "# copy list to another list\n",
    "l = [ x for x in range(1,11) ]\n",
    "l2 = l.copy()\n",
    "l2.append(11)\n",
    "print(l2)\n",
    "print(l)"
   ]
  },
  {
   "cell_type": "code",
   "execution_count": null,
   "id": "f192aa40-1df1-4339-b716-23248ec7e61d",
   "metadata": {},
   "outputs": [],
   "source": [
    "# return count of element in list\n",
    "l = [1,2,3,4,5,6,7,8,9,9,8,7,6,5,4,3,2,1]\n",
    "print(l.count(1))"
   ]
  },
  {
   "cell_type": "code",
   "execution_count": null,
   "id": "b11a76ed-61eb-4273-b8ed-5dafa947a13a",
   "metadata": {},
   "outputs": [],
   "source": [
    "# appned anoter itrator and the end\n",
    "l = [ x for x in range(1,11) ]\n",
    "l2 = [ x for x in range(10,0,-1)]\n",
    "l.extend(l2)\n",
    "print(l)\n",
    "print(l2)"
   ]
  },
  {
   "cell_type": "code",
   "execution_count": null,
   "id": "7223a4f9-b3d3-4fdc-a36f-60b20a5dad7c",
   "metadata": {},
   "outputs": [],
   "source": [
    "# find index of element\n",
    "l = [ 1,2,3,4,5,6,7,8,9]\n",
    "print(l.index(5))\n",
    "try:\n",
    "    print(l.index(565)) # throw exception\n",
    "except ValueError as e:\n",
    "    print(\"Number not found --> \",e)"
   ]
  },
  {
   "cell_type": "code",
   "execution_count": null,
   "id": "3f5d6b74-dd32-4800-b2e2-be1cd2d17324",
   "metadata": {},
   "outputs": [],
   "source": [
    "# insert element at position\n",
    "l = [ 1,2,3,4,5,6,7,8,9]\n",
    "l.insert(4,10)\n",
    "print(l)"
   ]
  },
  {
   "cell_type": "code",
   "execution_count": null,
   "id": "2c84fd94-57f2-43eb-b6a0-970943d70f5e",
   "metadata": {},
   "outputs": [],
   "source": [
    "# remove element form specified position\n",
    "l = [ 1,2,3,4,5,6,7,8,9]\n",
    "l.pop() # remove form last\n",
    "print(l)\n",
    "l.pop(1) # remove element at index 1\n",
    "print(l)"
   ]
  },
  {
   "cell_type": "code",
   "execution_count": null,
   "id": "199ff56b-c2b7-48c8-ad1b-706fa44cdbe8",
   "metadata": {},
   "outputs": [],
   "source": [
    "# remove item with defined value\n",
    "l = [ 1,2,3,4,5,6,7,8,9]\n",
    "l.remove(9)\n",
    "print(l)\n",
    "try:\n",
    "    l.remove(123) # will throw exception\n",
    "except ValueError as e:\n",
    "    print(e)\n",
    "print(l)"
   ]
  },
  {
   "cell_type": "code",
   "execution_count": null,
   "id": "13454207-d8f3-4d84-84ab-9d4376b157cc",
   "metadata": {},
   "outputs": [],
   "source": [
    "# reverse the order of list\n",
    "l = [ 1,2,3,4,5,6,7,8,9]\n",
    "l.reverse()\n",
    "print(l)"
   ]
  },
  {
   "cell_type": "code",
   "execution_count": null,
   "id": "bded2786-4dd0-4d18-85c2-5d4c6b379197",
   "metadata": {},
   "outputs": [],
   "source": [
    "# sort the list\n",
    "l = [ 1,2,3,4,5,6,7,8,9]\n",
    "l.sort(reverse=True)\n",
    "print(l)"
   ]
  },
  {
   "cell_type": "code",
   "execution_count": null,
   "id": "37f643f4-ec97-45f0-bfa8-e2c06c3cc686",
   "metadata": {},
   "outputs": [],
   "source": [
    "# sort using function\n",
    "l = [ \"bmw\", \"ford\", \"ameo\"]\n",
    "l.sort()\n",
    "print(l)\n",
    "l.sort(key = lambda x : len(x))\n",
    "print(l)"
   ]
  },
  {
   "cell_type": "markdown",
   "id": "097c1342-d87f-4361-98f4-fbc7198756ce",
   "metadata": {},
   "source": [
    "#### Dict / Map"
   ]
  },
  {
   "cell_type": "code",
   "execution_count": null,
   "id": "63b31fc8-b6c8-4f1a-9052-b2ea0571f97c",
   "metadata": {},
   "outputs": [],
   "source": [
    "# CREATE EMEPTY DICT\n",
    "d = {}\n",
    "print(d)\n",
    "d = dict()\n",
    "print(d)"
   ]
  },
  {
   "cell_type": "code",
   "execution_count": null,
   "id": "e558d513-11b4-489f-ac9c-10d63aeb6e2b",
   "metadata": {},
   "outputs": [],
   "source": [
    "# Create dict with values\n",
    "d = { \n",
    "    1:\"one\",\n",
    "    2:\"two\"\n",
    "}\n",
    "print(d)\n",
    "\n",
    "d = dict( [ (\"one\",1),\n",
    "           (\"two\", 2),\n",
    "           (\"three\", 3)\n",
    "          ] )\n",
    "print(d)"
   ]
  },
  {
   "cell_type": "code",
   "execution_count": null,
   "id": "ca0f035c-5c33-4753-9430-7a6ae9393b03",
   "metadata": {},
   "outputs": [],
   "source": [
    "# update dict\n",
    "d = {}\n",
    "for i1,i2 in zip( range(1,11), range(10,0,-1)):\n",
    "    d.update({i1:i2})\n",
    "print(d)"
   ]
  },
  {
   "cell_type": "code",
   "execution_count": null,
   "id": "884419c7-e83a-4647-89d0-654501525d6e",
   "metadata": {},
   "outputs": [],
   "source": [
    "# Returns a shallow copy of the dictionary\n",
    "d = {}\n",
    "for i1,i2 in zip( range(1,11), range(10,0,-1)):\n",
    "    d.update({i1:i2})\n",
    "d2 = d.copy()\n",
    "d.update({1:11})\n",
    "print(d2)\n",
    "print(d)"
   ]
  },
  {
   "cell_type": "code",
   "execution_count": null,
   "id": "5628f119-3468-4f1f-926a-128fcd595d26",
   "metadata": {},
   "outputs": [],
   "source": [
    "# put element in dict\n",
    "d ={}\n",
    "d['one'] = 1\n",
    "d[ 'two'] = 2\n",
    "print(d)\n",
    "d['two']=3\n",
    "print(d)"
   ]
  },
  {
   "cell_type": "code",
   "execution_count": 27,
   "id": "e597db3b-db30-4b47-8115-87b0df7c09b0",
   "metadata": {},
   "outputs": [
    {
     "name": "stdout",
     "output_type": "stream",
     "text": [
      "10\n",
      "10\n",
      "None\n"
     ]
    }
   ],
   "source": [
    "# Get element from dict\n",
    "d = {}\n",
    "for i1,i2 in zip( range(1,11), range(10,0,-1)):\n",
    "    d[i1] = i2\n",
    "print(d[1])\n",
    "print(d.get(1))\n",
    "print(d.get(101, None))"
   ]
  },
  {
   "cell_type": "code",
   "execution_count": 28,
   "id": "eec0f966-1f1b-4da4-8cfe-7ea00250bdbe",
   "metadata": {},
   "outputs": [
    {
     "name": "stdout",
     "output_type": "stream",
     "text": [
      "{1: None, 2: None, 3: None, 4: None, 5: None}\n"
     ]
    }
   ],
   "source": [
    "# create dict from seq with default value\n",
    "print(dict.fromkeys([1,2,3,4,5], None))"
   ]
  },
  {
   "cell_type": "code",
   "execution_count": 31,
   "id": "8502dd96-0431-4d28-8e5e-a2519f55e4aa",
   "metadata": {},
   "outputs": [
    {
     "name": "stdout",
     "output_type": "stream",
     "text": [
      "dict_items([(1, 10), (2, 9), (3, 8), (4, 7), (5, 6), (6, 5), (7, 4), (8, 3), (9, 2), (10, 1)])\n",
      "dict_items([(2, 9), (3, 8), (4, 7), (5, 6), (6, 5), (7, 4), (8, 3), (9, 2), (10, 1)])\n"
     ]
    }
   ],
   "source": [
    "# Return the list with all dictionary keys with values\n",
    "for i1,i2 in zip( range(1,11), range(10,0,-1)):\n",
    "    d[i1] = i2\n",
    "items = d.items()  # item will update if original dict updated\n",
    "print(items)\n",
    "del[d[1]]\n",
    "print(items)"
   ]
  },
  {
   "cell_type": "code",
   "execution_count": 32,
   "id": "72bcfbb0-e51c-41e1-8c38-1a7d61aa5a03",
   "metadata": {},
   "outputs": [
    {
     "name": "stdout",
     "output_type": "stream",
     "text": [
      "dict_keys([2, 3, 4, 5, 6, 7, 8, 9, 10, 1])\n"
     ]
    }
   ],
   "source": [
    "# Returns a view object that displays a list of all the keys in the dictionary in order of insertion\n",
    "for i1,i2 in zip( range(1,11), range(10,0,-1)):\n",
    "    d[i1] = i2\n",
    "\n",
    "print(d.keys())"
   ]
  },
  {
   "cell_type": "code",
   "execution_count": 39,
   "id": "ab39df6e-630d-4e9a-9bb0-8ca899f10e7e",
   "metadata": {},
   "outputs": [
    {
     "name": "stdout",
     "output_type": "stream",
     "text": [
      "10\n",
      "key not found ->  102\n",
      "key not found\n"
     ]
    }
   ],
   "source": [
    "# Returns and removes the element with the given key\n",
    "for i1,i2 in zip( range(1,11), range(10,0,-1)):\n",
    "    d[i1] = i2\n",
    "\n",
    "print(d.pop(1))\n",
    "try:\n",
    "    print(d.pop(102)) # will throw an error\n",
    "except KeyError as error:\n",
    "    print(\"key not found -> \",error)\n",
    "    \n",
    "print(d.pop(101, \"key not found\"))"
   ]
  },
  {
   "cell_type": "code",
   "execution_count": 40,
   "id": "5c3ad3f2-0519-494a-b808-28e93f6bcefd",
   "metadata": {},
   "outputs": [
    {
     "name": "stdout",
     "output_type": "stream",
     "text": [
      "{2: 9, 3: 8, 4: 7, 5: 6, 6: 5, 7: 4, 8: 3, 9: 2, 10: 1, 1: 10}\n",
      "(1, 10)\n",
      "{2: 9, 3: 8, 4: 7, 5: 6, 6: 5, 7: 4, 8: 3, 9: 2, 10: 1}\n"
     ]
    }
   ],
   "source": [
    "# Returns and removes the last key-value pair from the dictionary do not accept parameter\n",
    "for i1,i2 in zip( range(1,11), range(10,0,-1)):\n",
    "    d[i1] = i2\n",
    "print(d)\n",
    "items= d.popitem() # return tuples\n",
    "print(items)\n",
    "print(d)"
   ]
  },
  {
   "cell_type": "code",
   "execution_count": 44,
   "id": "6eb37fb6-1259-4675-a7d0-dea2de0ebf6e",
   "metadata": {},
   "outputs": [
    {
     "name": "stdout",
     "output_type": "stream",
     "text": [
      "{2: 9, 3: 8, 4: 7, 5: 6, 6: 5, 7: 4, 8: 3, 9: 2, 10: 1, 1: 10, 15: 43}\n",
      "43\n",
      "9\n",
      "{2: 9, 3: 8, 4: 7, 5: 6, 6: 5, 7: 4, 8: 3, 9: 2, 10: 1, 1: 10, 15: 43}\n"
     ]
    }
   ],
   "source": [
    "# Returns the value of a key if the key is in the dictionary else inserts the key with a value to the dictionary\n",
    "for i1,i2 in zip( range(1,11), range(10,0,-1)):\n",
    "    d[i1] = i2\n",
    "print(d)\n",
    "value = d.setdefault(15, 43)\n",
    "print(value)\n",
    "value = d.setdefault(2, 78)\n",
    "print(value)\n",
    "print(d)"
   ]
  },
  {
   "cell_type": "code",
   "execution_count": 45,
   "id": "9dc7548b-b290-492b-9ecb-a1442bb7fe7b",
   "metadata": {},
   "outputs": [
    {
     "name": "stdout",
     "output_type": "stream",
     "text": [
      "dict_values([9, 8, 7, 6, 5, 4, 3, 2, 1, 10, 43])\n"
     ]
    }
   ],
   "source": [
    "# Returns a view object containing all dictionary values, which can be accessed and iterated through efficiently\n",
    "for i1,i2 in zip( range(1,11), range(10,0,-1)):\n",
    "    d[i1] = i2\n",
    "print(d.values())"
   ]
  },
  {
   "cell_type": "code",
   "execution_count": 55,
   "id": "a4ad54cc-3fe5-4468-aa48-bb1cb533cdbd",
   "metadata": {},
   "outputs": [
    {
     "name": "stdout",
     "output_type": "stream",
     "text": [
      "{10: 1, 9: 2, 8: 3, 7: 4, 6: 5, 5: 6, 4: 7, 3: 8, 2: 9, 1: 10}\n"
     ]
    }
   ],
   "source": [
    "# sort dict based on keys\n",
    "d={}\n",
    "for i1,i2 in zip( range(1,11), range(10,0,-1)):\n",
    "    d[i2] = i1\n",
    "keys = sorted(d.items(), key = lambda kv : (kv[1], kv[0]))\n",
    "print(dict(keys))"
   ]
  },
  {
   "cell_type": "code",
   "execution_count": 1,
   "id": "0851c429-e864-4bf3-9356-7861bf178d96",
   "metadata": {},
   "outputs": [
    {
     "name": "stdout",
     "output_type": "stream",
     "text": [
      "{10: 1, 9: 2, 8: 3, 7: 4, 6: 5, 5: 6, 4: 7, 3: 8, 2: 9, 1: 10}\n"
     ]
    }
   ],
   "source": [
    "from collections import OrderedDict as od\n",
    "d={}\n",
    "for i1,i2 in zip( range(1,11), range(10,0,-1)):\n",
    "    d[i2] = i1\n",
    "print(d)"
   ]
  },
  {
   "cell_type": "markdown",
   "id": "acfcc505-4b7a-4ba0-a7a7-4eb4c0572999",
   "metadata": {},
   "source": [
    "### OOP's"
   ]
  },
  {
   "cell_type": "markdown",
   "id": "23080837-43ca-4db3-b530-3c41a4c8aef4",
   "metadata": {},
   "source": [
    "### CLASSES AND OBJECT"
   ]
  },
  {
   "cell_type": "code",
   "execution_count": 14,
   "id": "fa463a41-3e59-4292-ba04-df1084bc94c4",
   "metadata": {},
   "outputs": [
    {
     "name": "stdout",
     "output_type": "stream",
     "text": [
      "<__main__.Person object at 0x0000025BD5D1A660>\n",
      "lokesh 32\n"
     ]
    }
   ],
   "source": [
    "# CREATE CLASS\n",
    "class Person:\n",
    "    pass\n",
    "\n",
    "p = Person()\n",
    "print(p)\n",
    "# we can attibute runtime\n",
    "p.name=\"lokesh\"\n",
    "p.age= 32\n",
    "print(p.name, p.age)"
   ]
  },
  {
   "cell_type": "code",
   "execution_count": 43,
   "id": "a9f98e2c-a567-42ce-80c4-0b1a9f6747a8",
   "metadata": {},
   "outputs": [
    {
     "name": "stdout",
     "output_type": "stream",
     "text": [
      "name update to lucky\n",
      "class method called -> {} 2\n",
      "name:abc, age:30, class_var:2\n",
      "name:lucky, age:33, class_var:2\n"
     ]
    }
   ],
   "source": [
    "# create class with paramater\n",
    "class Person:\n",
    "\n",
    "    class_var =1\n",
    "    \n",
    "    def __init__(self, name:str, age:int) :\n",
    "        self.name=name\n",
    "        self.age=age\n",
    "        \n",
    "    def __str__(self):\n",
    "        return \"name:{}, age:{}, class_var:{}\".format(self.name,self.age,self.class_var)\n",
    "        \n",
    "    def increment_age(self):\n",
    "        self.age +=1\n",
    "        \n",
    "    @staticmethod\n",
    "    def person_static_method(othername:str):\n",
    "        print('name update to '+othername)\n",
    "        p.__dict__.update({'name':othername})\n",
    "\n",
    "    @classmethod\n",
    "    def person_class_method(cls, name:str, age:int):\n",
    "        cls.class_var +=1\n",
    "        print('class method called -> {}',cls.class_var)\n",
    "        return cls(name,age)\n",
    "\n",
    "p = Person(\"lokesh\",32)\n",
    "p.increment_age()\n",
    "Person.person_static_method('lucky')\n",
    "print(Person.person_class_method('abc',30))\n",
    "# print(p.__dict__.update({'name':'lucky'}))\n",
    "print(p)"
   ]
  },
  {
   "cell_type": "code",
   "execution_count": 44,
   "id": "d9bf9ef9-6d39-4651-b5f1-c250e3eafaac",
   "metadata": {},
   "outputs": [
    {
     "name": "stdout",
     "output_type": "stream",
     "text": [
      "playing game Playing game\n",
      "playing game cicket\n",
      "None\n",
      "Help on Cricket in module __main__ object:\n",
      "\n",
      "class Cricket(Game)\n",
      " |  Method resolution order:\n",
      " |      Cricket\n",
      " |      Game\n",
      " |      builtins.object\n",
      " |\n",
      " |  Methods inherited from Game:\n",
      " |\n",
      " |  play(self, msg: str)\n",
      " |\n",
      " |  ----------------------------------------------------------------------\n",
      " |  Data descriptors inherited from Game:\n",
      " |\n",
      " |  __dict__\n",
      " |      dictionary for instance variables\n",
      " |\n",
      " |  __weakref__\n",
      " |      list of weak references to the object\n",
      "\n"
     ]
    }
   ],
   "source": [
    "# Inheritance\n",
    "class Game:\n",
    "    def play(self, msg: str):\n",
    "        print(f'playing game {msg}')\n",
    "\n",
    "g = Game()\n",
    "g.play('Playing game')\n",
    "\n",
    "class Cricket(Game):\n",
    "    pass\n",
    "\n",
    "cicket = Cricket()\n",
    "cicket.play('cicket')\n",
    "print(cricket.__weakref__)\n",
    "help(cicket)\n"
   ]
  },
  {
   "cell_type": "code",
   "execution_count": 79,
   "id": "8be62423-f274-4e2c-978f-4ca50d9f2fea",
   "metadata": {},
   "outputs": [
    {
     "name": "stdout",
     "output_type": "stream",
     "text": [
      "1\n",
      "2\n",
      "3\n",
      "4\n",
      "5\n",
      "6\n",
      "7\n",
      "8\n",
      "9\n",
      "10\n"
     ]
    }
   ],
   "source": [
    "# Custom generator\n",
    "def generator(start:int=0, end:int=10):\n",
    "    while start <= end:\n",
    "        yield start\n",
    "        start+=1\n",
    "        \n",
    "for x in generator(1,10):\n",
    "    print(x)"
   ]
  },
  {
   "cell_type": "code",
   "execution_count": null,
   "id": "1188b229-4849-4ff4-88ac-88e14f40228c",
   "metadata": {},
   "outputs": [],
   "source": []
  },
  {
   "cell_type": "code",
   "execution_count": null,
   "id": "eb33ab52-234d-472a-ad60-128deef5954e",
   "metadata": {},
   "outputs": [],
   "source": []
  }
 ],
 "metadata": {
  "kernelspec": {
   "display_name": "Python 3 (ipykernel)",
   "language": "python",
   "name": "python3"
  },
  "language_info": {
   "codemirror_mode": {
    "name": "ipython",
    "version": 3
   },
   "file_extension": ".py",
   "mimetype": "text/x-python",
   "name": "python",
   "nbconvert_exporter": "python",
   "pygments_lexer": "ipython3",
   "version": "3.12.4"
  }
 },
 "nbformat": 4,
 "nbformat_minor": 5
}
