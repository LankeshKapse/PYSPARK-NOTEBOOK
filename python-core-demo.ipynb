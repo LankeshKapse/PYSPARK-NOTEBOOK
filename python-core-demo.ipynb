{
 "cells": [
  {
   "cell_type": "markdown",
   "id": "040c3ef5-d4d6-4c6f-8f6d-5996b64d3b45",
   "metadata": {},
   "source": [
    "#### Control statement"
   ]
  },
  {
   "cell_type": "code",
   "execution_count": null,
   "id": "5976e08b-0602-4abe-8deb-f3f0c862cc62",
   "metadata": {},
   "outputs": [],
   "source": [
    "x=10\n",
    "if x>5:\n",
    "    print(\"x is greater than 5\")"
   ]
  },
  {
   "cell_type": "code",
   "execution_count": null,
   "id": "609b20f7-5902-493b-af40-06ffeb9e2822",
   "metadata": {},
   "outputs": [],
   "source": [
    "if x < 5:\n",
    "    pass\n",
    "else:\n",
    "    if x >= 10:\n",
    "        print(\"else statement\")"
   ]
  },
  {
   "cell_type": "code",
   "execution_count": null,
   "id": "87272c69-e7a4-4543-a8b7-255391f765cc",
   "metadata": {},
   "outputs": [],
   "source": [
    "if x > 15:\n",
    "    print(\"x is > 15\")\n",
    "elif x < 8:\n",
    "    print(\"x is < 8\")\n",
    "else:\n",
    "    print(x)"
   ]
  },
  {
   "cell_type": "code",
   "execution_count": null,
   "id": "3be1b180-04e0-42e3-ac63-d71cc74c7c9d",
   "metadata": {},
   "outputs": [],
   "source": [
    "# if condition : statement\n",
    "if x >9 : print(\"x > 9\")"
   ]
  },
  {
   "cell_type": "markdown",
   "id": "340cdb4c-6aec-4fc9-ad88-e657f11687b2",
   "metadata": {},
   "source": [
    "#### String formation"
   ]
  },
  {
   "cell_type": "code",
   "execution_count": null,
   "id": "c6e8ba70-4ded-4681-9fc1-d6ae2ce729b5",
   "metadata": {},
   "outputs": [],
   "source": [
    "print(\"Misha %s and %s arround\"%(\"walked\", \"looked\"))"
   ]
  },
  {
   "cell_type": "code",
   "execution_count": null,
   "id": "307a5e8f-96bf-4f74-b249-707a91d93285",
   "metadata": {},
   "outputs": [],
   "source": [
    "import math\n",
    "print(\"the value of pi is %5.10f\" %math.pi)"
   ]
  },
  {
   "cell_type": "code",
   "execution_count": null,
   "id": "c8eb0f0a-64d7-4ce6-9f87-c96b5f6176dc",
   "metadata": {},
   "outputs": [],
   "source": [
    "print(\"My name is {} and I am {} years old\".format(\"lankesh\",32)) "
   ]
  },
  {
   "cell_type": "code",
   "execution_count": null,
   "id": "80010907-4305-4d33-9272-1e84e00c02e6",
   "metadata": {},
   "outputs": [],
   "source": [
    "print(\"{2}, {1}, {0}\".format(\"red\",\"green\",\"blue\"))"
   ]
  },
  {
   "cell_type": "code",
   "execution_count": null,
   "id": "536cc48d-e989-41d3-bb4b-9cc49317386d",
   "metadata": {},
   "outputs": [],
   "source": [
    "print(\" {a}, {b}, {c}\".format(a=\"A\",b=\"B\",c=\"C\"))"
   ]
  },
  {
   "cell_type": "code",
   "execution_count": null,
   "id": "7e9a710e-9065-4f4d-a2e4-c201532af93b",
   "metadata": {},
   "outputs": [],
   "source": [
    "print(\"Reusing object {p} -> {p} -> {p}\".format(p=\"value\"))"
   ]
  },
  {
   "cell_type": "code",
   "execution_count": null,
   "id": "6f53fbe0-741e-4fac-9217-a65856343991",
   "metadata": {},
   "outputs": [],
   "source": [
    "import math\n",
    "print(\"format with prcision {0:1.5f}\".format(math.pi))"
   ]
  },
  {
   "cell_type": "markdown",
   "id": "3e8e5a9e-8f6b-4e27-b858-c99acbd5c8cd",
   "metadata": {},
   "source": [
    "#### String functions"
   ]
  },
  {
   "cell_type": "code",
   "execution_count": null,
   "id": "be4fe226-fafa-4675-9df4-79a790a1c4d7",
   "metadata": {},
   "outputs": [],
   "source": [
    "a = \"This is a normal String\"\n",
    "print(a)"
   ]
  },
  {
   "cell_type": "code",
   "execution_count": null,
   "id": "fe3cc585-99e1-4629-8987-a694933c7758",
   "metadata": {},
   "outputs": [],
   "source": [
    "# slicing a string bacialyy sring are array\n",
    "print(a[2:5])"
   ]
  },
  {
   "cell_type": "code",
   "execution_count": null,
   "id": "f01b1aa9-1a2c-48a9-892f-34698938a8e9",
   "metadata": {},
   "outputs": [],
   "source": [
    "# looping through string\n",
    "for x in a:\n",
    "    print(x)"
   ]
  },
  {
   "cell_type": "code",
   "execution_count": null,
   "id": "0a3de1cb-3139-4bad-9499-c889f8a5d98f",
   "metadata": {},
   "outputs": [],
   "source": [
    "# string lenght\n",
    "print(len(a))"
   ]
  },
  {
   "cell_type": "code",
   "execution_count": null,
   "id": "8d56d6e6-255f-46cb-a1fb-d1bcf3a5b3da",
   "metadata": {},
   "outputs": [],
   "source": [
    "for x in range(len(a)):\n",
    "    print(a[x])"
   ]
  },
  {
   "cell_type": "code",
   "execution_count": null,
   "id": "7c7f860f-8247-4adf-9064-8d6ac4f0d3b7",
   "metadata": {},
   "outputs": [],
   "source": [
    "# check substring present in string\n",
    "b = \"normal\"\n",
    "print(b in a)\n",
    "print(b not in a)"
   ]
  },
  {
   "cell_type": "code",
   "execution_count": null,
   "id": "5a9aceb2-4d75-43c9-ba93-1fe44580e45d",
   "metadata": {},
   "outputs": [],
   "source": [
    "# Creating multiline String\n",
    "ms = '''\n",
    "    this is\n",
    "    multiline \n",
    "    String\n",
    "'''\n",
    "print(ms)"
   ]
  },
  {
   "cell_type": "code",
   "execution_count": null,
   "id": "9e136651-cfc8-4f65-9ab8-1575d2f096f6",
   "metadata": {},
   "outputs": [],
   "source": [
    "# reverse string\n",
    "s = \"Hello Word!\"\n",
    "print(s[len(s)-1:-1:-1])\n",
    "print(s[::-1])\n",
    "\n",
    "## Another way\n",
    "temp=\"\"\n",
    "for i in s:\n",
    "    temp = i+temp\n",
    "print(temp)\n",
    "\n",
    "# using recursive function\n",
    "def reveres(d:str):\n",
    "    if len(d) ==0:\n",
    "        return d\n",
    "    else:\n",
    "        return reveres(d[1:])+d[0]\n",
    "print(reveres(s))\n",
    "\n",
    "# using statck\n",
    "def reverse_using_stack( inputstr ):\n",
    "    stack = []\n",
    "    for i in inputstr:\n",
    "        stack.append(i)\n",
    "    string=\"\"\n",
    "    while(len(stack) != 0):\n",
    "        string +=stack.pop()\n",
    "    print(string)\n",
    "    \n",
    "reverse_using_stack(s)\n",
    "\n",
    "# using method\n",
    "print(\"\".join(reversed(s)))\n",
    "\n",
    "# using lambda function\n",
    "from functools import reduce \n",
    "rev_str = reduce(lambda x, y : y+x , s)\n",
    "print(rev_str)"
   ]
  },
  {
   "cell_type": "code",
   "execution_count": null,
   "id": "59f5d1fd-175b-41c1-8865-5b3df15e9c31",
   "metadata": {},
   "outputs": [],
   "source": []
  }
 ],
 "metadata": {
  "kernelspec": {
   "display_name": "Python 3 (ipykernel)",
   "language": "python",
   "name": "python3"
  },
  "language_info": {
   "codemirror_mode": {
    "name": "ipython",
    "version": 3
   },
   "file_extension": ".py",
   "mimetype": "text/x-python",
   "name": "python",
   "nbconvert_exporter": "python",
   "pygments_lexer": "ipython3",
   "version": "3.12.4"
  }
 },
 "nbformat": 4,
 "nbformat_minor": 5
}
