{
 "cells": [
  {
   "cell_type": "code",
   "execution_count": 1,
   "id": "c5b45add-fb13-4dfd-a18f-07ace5c832d8",
   "metadata": {},
   "outputs": [],
   "source": [
    "import pyspark"
   ]
  },
  {
   "cell_type": "code",
   "execution_count": 10,
   "id": "2aadb369-18b9-4f77-af0a-adb4e600a727",
   "metadata": {},
   "outputs": [],
   "source": [
    "from pyspark.sql import SparkSession\n",
    "from pyspark.sql.types import DoubleType, IntegerType, StringType, StructField, StructType, TimestampType, LongType"
   ]
  },
  {
   "cell_type": "code",
   "execution_count": 3,
   "id": "89d488a6-fc7e-43fa-bccd-594e3a1db4db",
   "metadata": {},
   "outputs": [],
   "source": [
    "spark = SparkSession.builder.appName(\"app1\").getOrCreate()"
   ]
  },
  {
   "cell_type": "code",
   "execution_count": 12,
   "id": "3387b6a3-fce2-4721-9abf-e730cb87394b",
   "metadata": {},
   "outputs": [],
   "source": [
    "schema =  StructType([StructField('evtDate', TimestampType(), True), StructField('vin', StringType(), True), StructField('latitude', DoubleType(), True), StructField('longitude', DoubleType(), True), StructField('evt_type', IntegerType(), True), StructField('evt_date_in_long', LongType(), True)])"
   ]
  },
  {
   "cell_type": "code",
   "execution_count": 13,
   "id": "67943079-d449-4fde-a291-6a2003e52582",
   "metadata": {},
   "outputs": [],
   "source": [
    "df =spark.read.option(\"header\",\"true\")\\\n",
    "                .option(\"path\",\"data.csv\")\\\n",
    "                .schema(schema)\\\n",
    "                .format(\"csv\").load()"
   ]
  },
  {
   "cell_type": "code",
   "execution_count": 15,
   "id": "e57338e0-cbd9-4615-96cd-4c0e589c902c",
   "metadata": {},
   "outputs": [
    {
     "name": "stdout",
     "output_type": "stream",
     "text": [
      "root\n",
      " |-- evtDate: timestamp (nullable = true)\n",
      " |-- vin: string (nullable = true)\n",
      " |-- latitude: double (nullable = true)\n",
      " |-- longitude: double (nullable = true)\n",
      " |-- evt_type: integer (nullable = true)\n",
      " |-- evt_date_in_long: long (nullable = true)\n",
      "\n"
     ]
    }
   ],
   "source": [
    "df.printSchema()"
   ]
  },
  {
   "cell_type": "code",
   "execution_count": 11,
   "id": "0df9beaf-e49b-490c-b974-98a85c1c4758",
   "metadata": {},
   "outputs": [],
   "source": []
  },
  {
   "cell_type": "code",
   "execution_count": null,
   "id": "0835aa55-0bd5-4ec6-b357-f0c5500f7db4",
   "metadata": {},
   "outputs": [],
   "source": []
  }
 ],
 "metadata": {
  "kernelspec": {
   "display_name": "SPARK_VENV",
   "language": "python",
   "name": "spark_venv"
  },
  "language_info": {
   "codemirror_mode": {
    "name": "ipython",
    "version": 3
   },
   "file_extension": ".py",
   "mimetype": "text/x-python",
   "name": "python",
   "nbconvert_exporter": "python",
   "pygments_lexer": "ipython3",
   "version": "3.12.4"
  }
 },
 "nbformat": 4,
 "nbformat_minor": 5
}
